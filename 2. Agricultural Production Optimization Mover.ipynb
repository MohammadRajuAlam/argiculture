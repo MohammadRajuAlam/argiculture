{
 "cells": [
  {
   "cell_type": "code",
   "execution_count": 8,
   "metadata": {},
   "outputs": [],
   "source": [
    "# Here importing some python libraries\n",
    "\n",
    "\n",
    "import pandas as pd # for Data manupulation\n",
    "\n",
    "import numpy as np\n",
    "\n",
    "# for Data visualization\n",
    "\n",
    "import matplotlib.pyplot as plt \n",
    "\n",
    "import seaborn as sns\n",
    "\n",
    "# for interactive\n",
    "\n",
    "from ipywidgets import interact\n",
    "\n",
    "import sklearn as sl"
   ]
  },
  {
   "cell_type": "code",
   "execution_count": 9,
   "metadata": {},
   "outputs": [],
   "source": [
    "# Reading (extracting) Crops Data set (Frame)\n",
    "\n",
    "df=pd.read_csv(\"data.csv\") # read_csv () is a function of pandas which is used to read csv file"
   ]
  },
  {
   "cell_type": "code",
   "execution_count": 3,
   "metadata": {},
   "outputs": [
    {
     "data": {
      "text/plain": [
       "(2200, 8)"
      ]
     },
     "execution_count": 3,
     "metadata": {},
     "output_type": "execute_result"
    }
   ],
   "source": [
    "# shape is used to display total numbers of rows and columns of data Frame\n",
    "\n",
    "df.shape"
   ]
  },
  {
   "cell_type": "code",
   "execution_count": 4,
   "metadata": {},
   "outputs": [
    {
     "data": {
      "text/html": [
       "<div>\n",
       "<style scoped>\n",
       "    .dataframe tbody tr th:only-of-type {\n",
       "        vertical-align: middle;\n",
       "    }\n",
       "\n",
       "    .dataframe tbody tr th {\n",
       "        vertical-align: top;\n",
       "    }\n",
       "\n",
       "    .dataframe thead th {\n",
       "        text-align: right;\n",
       "    }\n",
       "</style>\n",
       "<table border=\"1\" class=\"dataframe\">\n",
       "  <thead>\n",
       "    <tr style=\"text-align: right;\">\n",
       "      <th></th>\n",
       "      <th>N</th>\n",
       "      <th>P</th>\n",
       "      <th>K</th>\n",
       "      <th>temperature</th>\n",
       "      <th>humidity</th>\n",
       "      <th>ph</th>\n",
       "      <th>rainfall</th>\n",
       "      <th>label</th>\n",
       "    </tr>\n",
       "  </thead>\n",
       "  <tbody>\n",
       "    <tr>\n",
       "      <th>0</th>\n",
       "      <td>90</td>\n",
       "      <td>42</td>\n",
       "      <td>43</td>\n",
       "      <td>20.879744</td>\n",
       "      <td>82.002744</td>\n",
       "      <td>6.502985</td>\n",
       "      <td>202.935536</td>\n",
       "      <td>rice</td>\n",
       "    </tr>\n",
       "    <tr>\n",
       "      <th>1</th>\n",
       "      <td>85</td>\n",
       "      <td>58</td>\n",
       "      <td>41</td>\n",
       "      <td>21.770462</td>\n",
       "      <td>80.319644</td>\n",
       "      <td>7.038096</td>\n",
       "      <td>226.655537</td>\n",
       "      <td>rice</td>\n",
       "    </tr>\n",
       "    <tr>\n",
       "      <th>2</th>\n",
       "      <td>60</td>\n",
       "      <td>55</td>\n",
       "      <td>44</td>\n",
       "      <td>23.004459</td>\n",
       "      <td>82.320763</td>\n",
       "      <td>7.840207</td>\n",
       "      <td>263.964248</td>\n",
       "      <td>rice</td>\n",
       "    </tr>\n",
       "    <tr>\n",
       "      <th>3</th>\n",
       "      <td>74</td>\n",
       "      <td>35</td>\n",
       "      <td>40</td>\n",
       "      <td>26.491096</td>\n",
       "      <td>80.158363</td>\n",
       "      <td>6.980401</td>\n",
       "      <td>242.864034</td>\n",
       "      <td>rice</td>\n",
       "    </tr>\n",
       "    <tr>\n",
       "      <th>4</th>\n",
       "      <td>78</td>\n",
       "      <td>42</td>\n",
       "      <td>42</td>\n",
       "      <td>20.130175</td>\n",
       "      <td>81.604873</td>\n",
       "      <td>7.628473</td>\n",
       "      <td>262.717340</td>\n",
       "      <td>rice</td>\n",
       "    </tr>\n",
       "  </tbody>\n",
       "</table>\n",
       "</div>"
      ],
      "text/plain": [
       "    N   P   K  temperature   humidity        ph    rainfall label\n",
       "0  90  42  43    20.879744  82.002744  6.502985  202.935536  rice\n",
       "1  85  58  41    21.770462  80.319644  7.038096  226.655537  rice\n",
       "2  60  55  44    23.004459  82.320763  7.840207  263.964248  rice\n",
       "3  74  35  40    26.491096  80.158363  6.980401  242.864034  rice\n",
       "4  78  42  42    20.130175  81.604873  7.628473  262.717340  rice"
      ]
     },
     "execution_count": 4,
     "metadata": {},
     "output_type": "execute_result"
    }
   ],
   "source": [
    "#\n",
    "df.head()"
   ]
  },
  {
   "cell_type": "code",
   "execution_count": null,
   "metadata": {},
   "outputs": [],
   "source": []
  },
  {
   "cell_type": "code",
   "execution_count": 5,
   "metadata": {},
   "outputs": [
    {
     "data": {
      "text/plain": [
       "RangeIndex(start=0, stop=2200, step=1)"
      ]
     },
     "execution_count": 5,
     "metadata": {},
     "output_type": "execute_result"
    }
   ],
   "source": [
    "# Display range of data frame like start, stop and step\n",
    "\n",
    "df.index"
   ]
  },
  {
   "cell_type": "code",
   "execution_count": 6,
   "metadata": {},
   "outputs": [
    {
     "data": {
      "text/plain": [
       "Index(['N', 'P', 'K', 'temperature', 'humidity', 'ph', 'rainfall', 'label'], dtype='object')"
      ]
     },
     "execution_count": 6,
     "metadata": {},
     "output_type": "execute_result"
    }
   ],
   "source": [
    "# Display all columns name\n",
    "\n",
    "df.columns"
   ]
  },
  {
   "cell_type": "code",
   "execution_count": 11,
   "metadata": {},
   "outputs": [
    {
     "data": {
      "text/plain": [
       "Index(['N', 'P', 'K', 'temperature', 'humidity'], dtype='object')"
      ]
     },
     "execution_count": 11,
     "metadata": {},
     "output_type": "execute_result"
    }
   ],
   "source": [
    "# Display only five columns name\n",
    "\n",
    "df.columns[:5]\n",
    "#df.columns[:]"
   ]
  },
  {
   "cell_type": "code",
   "execution_count": 12,
   "metadata": {},
   "outputs": [
    {
     "data": {
      "text/plain": [
       "array([[90, 42, 43, ..., 6.502985292000001, 202.9355362, 'rice'],\n",
       "       [85, 58, 41, ..., 7.038096361, 226.6555374, 'rice'],\n",
       "       [60, 55, 44, ..., 7.840207144, 263.96424759999996, 'rice'],\n",
       "       ...,\n",
       "       [118, 33, 30, ..., 6.362607851, 173.32283859999995, 'coffee'],\n",
       "       [117, 32, 34, ..., 6.758792552, 127.17529280000001, 'coffee'],\n",
       "       [104, 18, 30, ..., 6.7798326110000025, 140.9370415, 'coffee']],\n",
       "      dtype=object)"
      ]
     },
     "execution_count": 12,
     "metadata": {},
     "output_type": "execute_result"
    }
   ],
   "source": [
    "# Display all values\n",
    "df. values\n",
    "df.values[:]\n"
   ]
  },
  {
   "cell_type": "code",
   "execution_count": null,
   "metadata": {},
   "outputs": [],
   "source": [
    "# display all rows and columns\n",
    "df"
   ]
  },
  {
   "cell_type": "code",
   "execution_count": null,
   "metadata": {},
   "outputs": [],
   "source": [
    "df[\"label\"].unique()"
   ]
  },
  {
   "cell_type": "code",
   "execution_count": null,
   "metadata": {},
   "outputs": [],
   "source": [
    "# lets check the crops present in this dataset \n",
    "\n",
    "df['label'].value_counts() # value_counts () is function which is used to display unique name & total values of every crops (label column)"
   ]
  },
  {
   "cell_type": "code",
   "execution_count": null,
   "metadata": {},
   "outputs": [],
   "source": [
    "# get the count (value) of each crops in graphs by sns library\n",
    "\n",
    "sns.countplot(df['label']) # OR sns.countplot(df['label'],label='count')"
   ]
  },
  {
   "cell_type": "code",
   "execution_count": null,
   "metadata": {},
   "outputs": [],
   "source": []
  },
  {
   "cell_type": "code",
   "execution_count": null,
   "metadata": {},
   "outputs": [],
   "source": [
    "#dtype is used to check & display data type of columns\n",
    "\n",
    "df.dtypes"
   ]
  },
  {
   "cell_type": "code",
   "execution_count": null,
   "metadata": {},
   "outputs": [],
   "source": [
    "# We can also check data type a paticular column\n",
    "df[\"humidity\"].dtype"
   ]
  },
  {
   "cell_type": "code",
   "execution_count": null,
   "metadata": {},
   "outputs": [],
   "source": [
    "# display first five rows and all columns records of data set\n",
    "\n",
    "df.head()"
   ]
  },
  {
   "cell_type": "code",
   "execution_count": null,
   "metadata": {},
   "outputs": [],
   "source": [
    "# Display first five rows a particular column\n",
    "\n",
    "df['K'].head()"
   ]
  },
  {
   "cell_type": "code",
   "execution_count": null,
   "metadata": {},
   "outputs": [],
   "source": [
    "# Display all values a particular columns\n",
    "\n",
    "df['N']"
   ]
  },
  {
   "cell_type": "code",
   "execution_count": null,
   "metadata": {},
   "outputs": [],
   "source": [
    "df[10:0:-1] # Here displaying 10 to 1 rows in ascending order"
   ]
  },
  {
   "cell_type": "code",
   "execution_count": null,
   "metadata": {},
   "outputs": [],
   "source": [
    "# Display last 5 rows and all columns name\n",
    "df.tail()"
   ]
  },
  {
   "cell_type": "code",
   "execution_count": null,
   "metadata": {},
   "outputs": [],
   "source": [
    "# find is null values or not null values in every columns\n",
    "df.isnull().sum() "
   ]
  },
  {
   "cell_type": "code",
   "execution_count": null,
   "metadata": {},
   "outputs": [],
   "source": [
    "# sort in ascending order\n",
    "\n",
    "df.isnull().sum().sort_values(ascending=False)"
   ]
  },
  {
   "cell_type": "code",
   "execution_count": 15,
   "metadata": {},
   "outputs": [
    {
     "data": {
      "text/plain": [
       "0"
      ]
     },
     "execution_count": 15,
     "metadata": {},
     "output_type": "execute_result"
    }
   ],
   "source": [
    "# find null values a particular column\n",
    "\n",
    "df['K'].isnull()\n",
    "# df['K'].isnull().sum()"
   ]
  },
  {
   "cell_type": "code",
   "execution_count": 16,
   "metadata": {},
   "outputs": [
    {
     "data": {
      "text/plain": [
       "N              2200\n",
       "P              2200\n",
       "K              2200\n",
       "temperature    2200\n",
       "humidity       2200\n",
       "ph             2200\n",
       "rainfall       2200\n",
       "label          2200\n",
       "dtype: int64"
      ]
     },
     "execution_count": 16,
     "metadata": {},
     "output_type": "execute_result"
    }
   ],
   "source": [
    "# find not null values or is null values in every columns\n",
    "\n",
    "df.notnull().sum()"
   ]
  },
  {
   "cell_type": "code",
   "execution_count": null,
   "metadata": {},
   "outputs": [],
   "source": [
    "# find not null values a particular column\n",
    "\n",
    "df['K'].notnull().sum()"
   ]
  },
  {
   "cell_type": "code",
   "execution_count": null,
   "metadata": {},
   "outputs": [],
   "source": [
    "# display all Data frame information\n",
    "\n",
    "df.info()"
   ]
  },
  {
   "cell_type": "code",
   "execution_count": null,
   "metadata": {},
   "outputs": [],
   "source": [
    "# describe is used to desplay all details it works only numericals data but it doesn't on string data\n",
    "df.describe()\n"
   ]
  },
  {
   "cell_type": "code",
   "execution_count": null,
   "metadata": {},
   "outputs": [],
   "source": [
    "df.max()"
   ]
  },
  {
   "cell_type": "code",
   "execution_count": null,
   "metadata": {},
   "outputs": [],
   "source": [
    "# Display max value a particular culumn\n",
    "\n",
    "df['P'].min() "
   ]
  },
  {
   "cell_type": "code",
   "execution_count": null,
   "metadata": {},
   "outputs": [],
   "source": [
    "# display total data in every column\n",
    "df.count()"
   ]
  },
  {
   "cell_type": "code",
   "execution_count": null,
   "metadata": {},
   "outputs": [],
   "source": [
    "# Display max value in every columns\n",
    "\n",
    "df.min()"
   ]
  },
  {
   "cell_type": "code",
   "execution_count": null,
   "metadata": {},
   "outputs": [],
   "source": [
    "\n",
    "df.std()"
   ]
  },
  {
   "cell_type": "code",
   "execution_count": null,
   "metadata": {},
   "outputs": [],
   "source": [
    "# Display max value a particular culumn\n",
    "\n",
    "df['N'].min() \n"
   ]
  },
  {
   "cell_type": "code",
   "execution_count": null,
   "metadata": {},
   "outputs": [],
   "source": [
    "# letscheck the sumary and find everage for all crops\n",
    "\n",
    "print(f\"Average ration of nitrogen in the soil\",df['N'].mean()) # Display mean values a particular column\n",
    "\n",
    "print(f\"Average ration of Phospphorous in the soil\",df['P'].mean())\n",
    "\n",
    "print(f\"Average ration of Potassiium in the soil\",df['K'].mean())\n",
    "\n",
    "print(f\"Average ration of temperature in the soil\",df['temperature'].mean())\n",
    "\n",
    "print(f\"Average ration of humidity in the soil\",df['humidity'].mean())\n",
    "\n",
    "print(f\"Average ration of ph in the soil\",df['ph'].mean())\n",
    "\n",
    "print(f\"Average ration of rainfall in the soil\",df['rainfall'].mean())\n"
   ]
  },
  {
   "cell_type": "code",
   "execution_count": null,
   "metadata": {},
   "outputs": [],
   "source": [
    "df.head()"
   ]
  },
  {
   "cell_type": "markdown",
   "metadata": {},
   "source": []
  },
  {
   "cell_type": "code",
   "execution_count": null,
   "metadata": {},
   "outputs": [],
   "source": [
    "# Transpose all Rows & all columns of data Frame\n",
    "\n",
    "df.T"
   ]
  },
  {
   "cell_type": "code",
   "execution_count": null,
   "metadata": {},
   "outputs": [],
   "source": [
    "# Divide the features into Numerical and Categorical type ?\n",
    "df.dtypes=='object' "
   ]
  },
  {
   "cell_type": "code",
   "execution_count": null,
   "metadata": {},
   "outputs": [],
   "source": [
    "#df= df.filter([\"N\" , \"P\" , \"K\"]) # Filtering Columns\n",
    "\n",
    "#df.head()"
   ]
  },
  {
   "cell_type": "code",
   "execution_count": null,
   "metadata": {},
   "outputs": [],
   "source": [
    "df"
   ]
  },
  {
   "cell_type": "code",
   "execution_count": null,
   "metadata": {},
   "outputs": [],
   "source": [
    "#  find min & max soil & climatic condition requirements for every crops\n",
    "\n",
    "# lets check the details statistics for each of the crops\n",
    "\n",
    "@interact # Here @intract is a magic keyword for intractive our function\n",
    "\n",
    "def Details(crops_Name = list(df['label'].value_counts().index)):\n",
    "    \n",
    "    x = df[df['label'] == crops_Name]\n",
    "    \n",
    "    print('-----------------------------------')\n",
    "    \n",
    "    print('statistics for Nitrogen')\n",
    "    \n",
    "    print('Minimum Nitrogen required : ',x['N'].min())\n",
    "    \n",
    "    print('Average Nitrogen required : ',x['N'].mean())\n",
    "    \n",
    "    print('Maximum Nitrogen required : ',x['N'].max())\n",
    "    \n",
    "    print('-----------------------------------')\n",
    "    \n",
    "    print('statistics for phosphorous')\n",
    "    \n",
    "    print('Minimum phosphorous required : ',x['P'].min())\n",
    "    \n",
    "    print('Average phosphorous required : ',x['P'].mean())\n",
    "    \n",
    "    print('Maximum phosphorous required : ',x['P'].max())\n",
    "    \n",
    "    print('-----------------------------------')\n",
    "    \n",
    "    print('statistics for Potassium')\n",
    "    \n",
    "    print('Minimum Potassium required :',x['K'].min())\n",
    "    \n",
    "    print('Average Potassium required :',x['K'].mean())\n",
    "    \n",
    "    print('Maximum Potassium required :',x['K'].max())\n",
    "    \n",
    "    \n",
    "    print('-----------------------------------')\n",
    "    \n",
    "    print('statistics for temperature')\n",
    "    \n",
    "    print(\"Minimum temperature required : {0:.2f}\".format(x['temperature'].min()))\n",
    "    \n",
    "    print(\"Average temperatu rerequired : {0:.2f}\".format(x['temperature'].mean()))\n",
    "    \n",
    "    print(\"Maximum temperature required : {0:2f}\".format(x['temperature'].max()))\n",
    "    \n",
    "    \n",
    "    \n",
    "    print('-----------------------------------')\n",
    "    \n",
    "    print('statistics for humidity')\n",
    "    \n",
    "    print(\"Minimum humidity required : {0:.2f}\".format(x['humidity'].min()))\n",
    "    \n",
    "    print(\"Average humidity rerequired : {0:.2f}\".format(x['humidity'].mean()))\n",
    "    \n",
    "    print(\"Maximum humidity required : {0:.2f}\".format(x['humidity'].max()))\n",
    "    \n",
    "    print('-----------------------------------')\n",
    "    \n",
    "    print('statistics for ph')\n",
    "    \n",
    "    print(\"Minimum ph required : {0:.2f}\".format(x['ph'].min()))\n",
    "    \n",
    "    print(\"Average ph rerequired : {0:2f}\".format(x['ph'].mean()))\n",
    "    \n",
    "    print(\"Maximum ph required : {0:2f}\".format(x['ph'].max()))\n",
    "    \n",
    "    \n",
    "    print('-----------------------------------')\n",
    "    \n",
    "    print('statistics for rainfall')\n",
    "    \n",
    "    print(\"Minimum rainfall required : {0:.2f}\".format(x['rainfall'].min()))\n",
    "    \n",
    "    print(\"Average rainfall rerequired : {0:.2f}\".format(x['rainfall'].mean()))\n",
    "    \n",
    "    print(\"Maximum rainfall required : {0:.2f}\".format(x['rainfall'].max()))\n",
    "    "
   ]
  },
  {
   "cell_type": "code",
   "execution_count": null,
   "metadata": {},
   "outputs": [],
   "source": [
    "# Here Capmapre the averave (mean) Requirement for each crops with average (mean) conditions\n",
    "\n",
    "@interact\n",
    "def compare(conditions=['N','P','K','temperature','humidity','rainfall']):\n",
    "    \n",
    "    print(\"Average value for\",conditions,\"is {0:.2f}\".format(df[conditions].mean()))\n",
    "    \n",
    "    print(\"-------------------------------------------------------------------------\")\n",
    "    \n",
    "    print(\"Rice : {0:.2f}\".format(df[(df['label'] == ' rice')][conditions].mean()))\n",
    "    \n",
    "    print(\"Black Grams : {0:.2f}\".format(df[(df['label'] == 'Blackgrams')][conditions].mean()))\n",
    "    \n",
    "    print(\"Banana : {0:.2f}\".format(df[(df['label'] == 'Banana')][conditions].mean()))\n",
    "    \n",
    "    print(\"jute : {0:.2f}\".format(df[(df['label'] == 'jute')][conditions].mean()))\n",
    "    \n",
    "    print(\"coconut : {0:.2f}\".format(df[(df['label'] == 'coconut')][conditions].mean()))\n",
    "    \n",
    "    print(\"Black Grams : {0:.2f}\".format(df[(df['label'] == 'Blackgrams')][conditions].mean()))\n",
    "    \n",
    "    print(\"Apple : {0:.2f}\".format(df[(df['label'] == 'Apple')][conditions].mean()))\n",
    "    \n",
    "    print(\"papaya : {0:.2f}\".format(df[(df['label'] == 'papaya')][conditions].mean()))\n",
    "    \n",
    "    print(\"Muskmelon : {0:.2f}\".format(df[(df['label'] == 'Muskmelon')][conditions].mean()))\n",
    "    \n",
    "    print(\"Graps : {0:.2f}\".format(df[(df['label'] == 'Graps')][conditions].mean()))\n",
    "    \n",
    "    print(\"Watermelon : {0:.2f}\".format(df[(df['label'] == 'Watermelon')][conditions].mean()))\n",
    "    \n",
    "    print(\"kidney Beans : {0:.2f}\".format(df[(df['label'] == 'Kidney Beans')][conditions].mean()))\n",
    "    \n",
    "    print(\"Mung Beans : {0:.2f}\".format(df[(df['label'] == 'Mung Beans')][conditions].mean()))\n",
    "    \n",
    "    print(\"Oranges : {0:.2f}\".format(df[(df['label'] == 'Oranges')][conditions].mean()))\n",
    "    \n",
    "    print(\"Chick peas : {0:.2f}\".format(df[(df['label'] == 'Chick peas')][conditions].mean()))\n",
    "    \n",
    "    print(\"Lentils : {0:.2f}\".format(df[(df['label'] == 'Lentils')][conditions].mean()))\n",
    "    \n",
    "    print(\"Cotton : {0:.2f}\".format(df[(df['label'] == 'Cotton')][conditions].mean()))\n",
    "    \n",
    "    print(\"Maize : {0:.2f}\".format(df[(df['label'] == 'Maize')][conditions].mean()))\n",
    "    \n",
    "    print(\"Chick peas : {0:.2f}\".format(df[(df['label'] == 'Chick peas')][conditions].mean()))\n",
    "    \n",
    "    print(\"Moth Beans : {0:.2f}\".format(df[(df['label'] == 'Moth Beans')][conditions].mean()))\n",
    "    \n",
    "    print(\"Pigeon peas : {0:.2f}\".format(df[(df['label'] == 'Pigeon peas')][conditions].mean()))\n",
    "    \n",
    "    print(\"Mango : {0:.2f}\".format(df[(df['label'] == 'mango')][conditions].mean()))\n",
    "    \n",
    "    print(\"Pomegranate : {0:.2f}\".format(df[(df['label'] == 'Pomegranate')][conditions].mean()))\n",
    "    \n",
    "    print(\"Coffee : {0:.2f}\".format(df[(df['label'] == 'Coffee')][conditions].mean()))"
   ]
  },
  {
   "cell_type": "code",
   "execution_count": null,
   "metadata": {},
   "outputs": [],
   "source": [
    "df"
   ]
  },
  {
   "cell_type": "code",
   "execution_count": null,
   "metadata": {},
   "outputs": [],
   "source": [
    "# \n",
    "\n",
    "@interact\n",
    "\n",
    "def compare(condtions = ['N','P','K','temperature','humidity','ph','rainfall','label']):\n",
    "    \n",
    "    print(\"crops which require greater than average\", condtions,\"\\n\")\n",
    "    \n",
    "    print(df[df[condtions] > df[condtions].mean()]['label'].unique())\n",
    "    \n",
    "    print(\"_____________________________________________________________\")\n",
    "    \n",
    "    print(\"crops which require less than average\", condtions,\"\\n\")\n",
    "    \n",
    "    print(df[df[condtions] <= df[condtions].mean()]['label'].unique())\n",
    "\n"
   ]
  },
  {
   "cell_type": "code",
   "execution_count": null,
   "metadata": {},
   "outputs": [],
   "source": [
    "# Here we are finding which crops can be grow in low requrements (temprature requirements)\n",
    "\n",
    "print(\"Finding particulars crops to grow in low temprature\")\n",
    "\n",
    "print(\"____________________________________________________\")\n",
    "\n",
    "print(\"Crops which require very high Ration of Nitrogen contents in soil : \", df[df[\"N\"] > 120]['label'].unique(),\"\\n\")\n",
    "\n",
    "print(\"Crops which require very high Ration of Phosphorous contents in soil : \", df[df[\"P\"] > 110]['label'].unique()'\\n')\n",
    "\n",
    "print(\"Crops which require very high Ration of Potassium contents in soil : \", df[df[\"K\"] > 200]['label'].unique())\n",
    "\n",
    "print(\"Crops which require very Low Ration of temperature contents in soil : \", df[df[\"temperature\"] < 10]['label'].unique())\n",
    "\n",
    "print(\"Crops which require very high Ration of temperature contents in soil : \", df[df[\"temperature\"] > 40]['label'].unique())\n",
    "\n",
    "print(\"Crops which require very Low Ration of humidity contents in soil : \", df[df[\"humidity\"] < 20]['label'].unique())\n",
    "\n",
    "print(\"Crops which require very high Ration of humidity contents in soil : \", df[df[\"humidity\"] > 50]['label'].unique())\n",
    "\n",
    "print(\"Crops which require very Low Ration of PH contents in soil : \", df[df[\"ph\"] < 4]['label'].unique())\n",
    "\n",
    "\n",
    "print(\"Crops which require very Low Ration of PH contents in soil : \", df[df[\"ph\"] > 9]['label'].unique())\n",
    "\n",
    "\n"
   ]
  },
  {
   "cell_type": "markdown",
   "metadata": {},
   "source": [
    "# Graphs"
   ]
  },
  {
   "cell_type": "code",
   "execution_count": 17,
   "metadata": {},
   "outputs": [
    {
     "data": {
      "text/plain": [
       "Text(0.5,1,'N vs P Length')"
      ]
     },
     "execution_count": 17,
     "metadata": {},
     "output_type": "execute_result"
    },
    {
     "data": {
      "image/png": "[encoded data removed]",
      "text/plain": [
       "<Figure size 432x288 with 1 Axes>"
      ]
     },
     "metadata": {
      "needs_background": "light"
     },
     "output_type": "display_data"
    }
   ],
   "source": [
    "# Line plot\n",
    "plt.plot(df[\"N\" ], df[\"P\" ], \"b\" )\n",
    "\n",
    "plt.xlabel('N Length' )\n",
    "plt.ylabel('P Length' )\n",
    "plt.title('N vs P Length' )\n"
   ]
  },
  {
   "cell_type": "code",
   "execution_count": 18,
   "metadata": {},
   "outputs": [
    {
     "data": {
      "text/plain": [
       "Text(0.5,1,'N vs P Length')"
      ]
     },
     "execution_count": 18,
     "metadata": {},
     "output_type": "execute_result"
    },
    {
     "data": {
      "image/png": "[encoded data removed]",
      "text/plain": [
       "<Figure size 432x288 with 1 Axes>"
      ]
     },
     "metadata": {
      "needs_background": "light"
     },
     "output_type": "display_data"
    }
   ],
   "source": [
    "# Bar plot\n",
    "\n",
    "plt.bar(df[\"N\" ], df[\"P\" ] )\n",
    "\n",
    "plt.xlabel('N Length' )\n",
    "plt.ylabel('P Length' )\n",
    "plt.title('N vs P Length' )\n"
   ]
  },
  {
   "cell_type": "code",
   "execution_count": null,
   "metadata": {},
   "outputs": [],
   "source": [
    "plt.title('label Histogram' )\n",
    "plt.hist(df['label' ])\n",
    "#plt.hist(df['N'])"
   ]
  },
  {
   "cell_type": "code",
   "execution_count": null,
   "metadata": {},
   "outputs": [],
   "source": [
    "plt.hist(df['N'])"
   ]
  },
  {
   "cell_type": "code",
   "execution_count": null,
   "metadata": {},
   "outputs": [],
   "source": []
  }
 ],
 "metadata": {
  "kernelspec": {
   "display_name": "Python 3",
   "language": "python",
   "name": "python3"
  },
  "language_info": {
   "codemirror_mode": {
    "name": "ipython",
    "version": 3
   },
   "file_extension": ".py",
   "mimetype": "text/x-python",
   "name": "python",
   "nbconvert_exporter": "python",
   "pygments_lexer": "ipython3",
   "version": "3.7.0"
  }
 },
 "nbformat": 4,
 "nbformat_minor": 5
}
